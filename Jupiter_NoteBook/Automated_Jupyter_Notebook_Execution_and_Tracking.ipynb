{
 "cells": [
  {
   "cell_type": "code",
   "execution_count": 1,
   "id": "b351d960",
   "metadata": {},
   "outputs": [
    {
     "data": {
      "text/html": [
       "<img src=\"https://github.com/Umersaeed81/linkedin/blob/main/log/t_log.png?raw=true\"/>"
      ],
      "text/plain": [
       "<IPython.core.display.Image object>"
      ]
     },
     "execution_count": 1,
     "metadata": {},
     "output_type": "execute_result"
    }
   ],
   "source": [
    "from IPython.display import Image\n",
    "Image(url='https://github.com/Umersaeed81/linkedin/blob/main/log/t_log.png?raw=true')"
   ]
  },
  {
   "cell_type": "markdown",
   "id": "9da91ee3",
   "metadata": {},
   "source": [
    "#  [Umer Saeed](https://www.linkedin.com/in/engumersaeed/)\n",
    "Sr. RF Planning & Optimization Engineer<br>\n",
    "BSc Telecommunications Engineering, School of Engineering<br>\n",
    "MS Data Science, School of Business and Economics<br>\n",
    "**University of Management & Technology**<br>\n",
    "**Mobile:**     +923018412180<br>\n",
    "**Email:**  umersaeed81@hotmail.com<br>\n",
    "**Address:** Dream Gardens,Defence Road, Lahore<br>"
   ]
  },
  {
   "cell_type": "markdown",
   "id": "05ba946a",
   "metadata": {},
   "source": [
    "# Automated Jupyter Notebook Execution and Tracking"
   ]
  },
  {
   "cell_type": "markdown",
   "id": "fc424393",
   "metadata": {},
   "source": [
    "The purpose of this Python code is to;\n",
    "- Automate the execution of Jupyter notebooks.\n",
    "- Track and identify any errors that occur during the execution process. "
   ]
  },
  {
   "cell_type": "markdown",
   "id": "06f29d5c",
   "metadata": {},
   "source": [
    "The code achieves this by defining a function run_script(script_path) that executes Jupyter notebooks and then iterates through a list of script paths, executing each one and capturing any scripts that encounter errors. The identified error scripts are then printed at the end of the execution."
   ]
  },
  {
   "cell_type": "code",
   "execution_count": null,
   "id": "558c9828",
   "metadata": {},
   "outputs": [],
   "source": [
    "# import required library\n",
    "import os\n",
    "\n",
    "# user define function\n",
    "def run_script(script_path):\n",
    "    return os.system(f'jupyter nbconvert --execute --to notebook --inplace {script_path}')\n",
    "\n",
    "# List of script paths\n",
    "script_paths = [\n",
    "    \"C:/Users/uWX161178/Daily/SLA_Conformance/00_2G_Daily_Conformance.ipynb\",\n",
    "    \"C:/Users/uWX161178/Daily/SLA_Conformance/03_2G_Week_Conformance_BH.ipynb\",\n",
    "    \"C:/Users/uWX161178/Daily/SLA_Conformance/02_2G_Month_Conformance_BH.ipynb\",\n",
    "    \"C:/Users/uWX161178/Daily/SLA_Conformance/01_2G_Quarterly_Conformance.ipynb\",\n",
    "    \"C:/Users/uWX161178/Daily/SLA_Conformance/04_Cluster_DA_Month_Week_Level_KPIs.ipynb\"\n",
    "]\n",
    "\n",
    "# Execute scripts and track errors\n",
    "error_scripts = []\n",
    "for path in script_paths:\n",
    "    return_code = run_script(path)\n",
    "    if return_code != 0:\n",
    "        error_scripts.append(path)\n",
    "if error_scripts:\n",
    "    print(f\"The following scripts had errors: {error_scripts}\")"
   ]
  },
  {
   "cell_type": "code",
   "execution_count": 2,
   "id": "033cc164",
   "metadata": {},
   "outputs": [
    {
     "data": {
      "text/html": [
       "<img src=\"https://github.com/Umersaeed81/linkedin/blob/main/Jupiter_NoteBook/fig/Automated_Jupyter_Notebook_Execution%20_0.png?raw=true\"/>"
      ],
      "text/plain": [
       "<IPython.core.display.Image object>"
      ]
     },
     "execution_count": 2,
     "metadata": {},
     "output_type": "execute_result"
    }
   ],
   "source": [
    "Image(url='https://github.com/Umersaeed81/linkedin/blob/main/Jupiter_NoteBook/fig/Automated_Jupyter_Notebook_Execution%20_0.png?raw=true')"
   ]
  },
  {
   "cell_type": "code",
   "execution_count": 3,
   "id": "4803ec69",
   "metadata": {},
   "outputs": [
    {
     "data": {
      "text/html": [
       "<img src=\"https://github.com/Umersaeed81/linkedin/blob/main/log/sf_log.png?raw=true\"/>"
      ],
      "text/plain": [
       "<IPython.core.display.Image object>"
      ]
     },
     "execution_count": 3,
     "metadata": {},
     "output_type": "execute_result"
    }
   ],
   "source": [
    "Image(url='https://github.com/Umersaeed81/linkedin/blob/main/log/sf_log.png?raw=true')"
   ]
  }
 ],
 "metadata": {
  "kernelspec": {
   "display_name": "Python 3 (ipykernel)",
   "language": "python",
   "name": "python3"
  },
  "language_info": {
   "codemirror_mode": {
    "name": "ipython",
    "version": 3
   },
   "file_extension": ".py",
   "mimetype": "text/x-python",
   "name": "python",
   "nbconvert_exporter": "python",
   "pygments_lexer": "ipython3",
   "version": "3.11.4"
  }
 },
 "nbformat": 4,
 "nbformat_minor": 5
}
