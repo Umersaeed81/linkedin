{
 "cells": [
  {
   "cell_type": "code",
   "execution_count": 1,
   "id": "8faea9e4",
   "metadata": {},
   "outputs": [
    {
     "data": {
      "text/html": [
       "<img src=\"https://github.com/Umersaeed81/linkedin/blob/main/log/t_log.png?raw=true\"/>"
      ],
      "text/plain": [
       "<IPython.core.display.Image object>"
      ]
     },
     "execution_count": 1,
     "metadata": {},
     "output_type": "execute_result"
    }
   ],
   "source": [
    "from IPython.display import Image\n",
    "Image(url='https://github.com/Umersaeed81/linkedin/blob/main/log/t_log.png?raw=true')"
   ]
  },
  {
   "cell_type": "markdown",
   "id": "842670e8",
   "metadata": {},
   "source": [
    "#  [Umer Saeed](https://www.linkedin.com/in/engumersaeed/)\n",
    "Sr. RF Planning & Optimization Engineer<br>\n",
    "BSc Telecommunications Engineering, School of Engineering<br>\n",
    "MS Data Science, School of Business and Economics<br>\n",
    "**University of Management & Technology**<br>\n",
    "**Mobile:**     +923018412180<br>\n",
    "**Email:**  umersaeed81@hotmail.com<br>\n",
    "**Address:** Dream Gardens,Defence Road, Lahore<br>"
   ]
  },
  {
   "cell_type": "markdown",
   "id": "5a38e9d7",
   "metadata": {},
   "source": [
    "# Python Script for Deleting Multiple File Types in a Specific Directory"
   ]
  },
  {
   "cell_type": "markdown",
   "id": "194c0922",
   "metadata": {},
   "source": [
    "This script facilitates the targeted removal of specific file types from the designated directory."
   ]
  },
  {
   "cell_type": "code",
   "execution_count": null,
   "id": "9af3a8ff",
   "metadata": {},
   "outputs": [],
   "source": [
    "import os\n",
    "\n",
    "working_directory = 'D:/Advance_Data_Sets/TXN_DataSets/GSM_CGID_log_Analysis'\n",
    "os.chdir(working_directory)\n",
    "\n",
    "for filename in os.listdir(working_directory):\n",
    "    if filename.endswith(('.xlsx', '.txt')):\n",
    "        os.unlink(os.path.join(working_directory, filename))"
   ]
  },
  {
   "cell_type": "markdown",
   "id": "c20ec904",
   "metadata": {},
   "source": [
    "The objective of this Python code is to clear (delete) files with either the .xlsx or .txt extensions in a specific directory. The code achieves this by performing the following steps:\n",
    "1. Imports the os module to interact with the operating system.\n",
    "2. Sets the working_directory variable to a specified file path.\n",
    "3. Changes the current working directory to the path specified in working_directory.\n",
    "4. Iterates through the files in the working directory.\n",
    "5. For each file, checks if its filename ends with either .xlsx or .txt, indicating it is an Excel or text file.\n",
    "6. If the file has one of these extensions, it is deleted."
   ]
  },
  {
   "cell_type": "code",
   "execution_count": 2,
   "id": "87360e24",
   "metadata": {},
   "outputs": [
    {
     "data": {
      "text/html": [
       "<img src=\"https://github.com/Umersaeed81/linkedin/blob/main/Python_Script_Collection_for_File_Management/02_Python_Script_for_Deleting_Multiple_File_Types_in_a_Specific_Directory.png?raw=true\"/>"
      ],
      "text/plain": [
       "<IPython.core.display.Image object>"
      ]
     },
     "execution_count": 2,
     "metadata": {},
     "output_type": "execute_result"
    }
   ],
   "source": [
    "Image(url='https://github.com/Umersaeed81/linkedin/blob/main/Python_Script_Collection_for_File_Management/02_Python_Script_for_Deleting_Multiple_File_Types_in_a_Specific_Directory.png?raw=true')"
   ]
  },
  {
   "cell_type": "code",
   "execution_count": 3,
   "id": "052cbd64",
   "metadata": {},
   "outputs": [
    {
     "data": {
      "text/html": [
       "<img src=\"https://github.com/Umersaeed81/linkedin/blob/main/log/sf_log.png?raw=true\"/>"
      ],
      "text/plain": [
       "<IPython.core.display.Image object>"
      ]
     },
     "execution_count": 3,
     "metadata": {},
     "output_type": "execute_result"
    }
   ],
   "source": [
    "Image(url='https://github.com/Umersaeed81/linkedin/blob/main/log/sf_log.png?raw=true')"
   ]
  }
 ],
 "metadata": {
  "kernelspec": {
   "display_name": "Python 3 (ipykernel)",
   "language": "python",
   "name": "python3"
  },
  "language_info": {
   "codemirror_mode": {
    "name": "ipython",
    "version": 3
   },
   "file_extension": ".py",
   "mimetype": "text/x-python",
   "name": "python",
   "nbconvert_exporter": "python",
   "pygments_lexer": "ipython3",
   "version": "3.11.4"
  }
 },
 "nbformat": 4,
 "nbformat_minor": 5
}
