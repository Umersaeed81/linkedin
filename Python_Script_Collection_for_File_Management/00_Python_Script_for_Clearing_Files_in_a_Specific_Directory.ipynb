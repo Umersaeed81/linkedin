{
 "cells": [
  {
   "cell_type": "code",
   "execution_count": 1,
   "id": "0b71894e",
   "metadata": {},
   "outputs": [
    {
     "data": {
      "text/html": [
       "<img src=\"https://github.com/Umersaeed81/linkedin/blob/main/log/t_log.png?raw=true\"/>"
      ],
      "text/plain": [
       "<IPython.core.display.Image object>"
      ]
     },
     "execution_count": 1,
     "metadata": {},
     "output_type": "execute_result"
    }
   ],
   "source": [
    "from IPython.display import Image\n",
    "Image(url='https://github.com/Umersaeed81/linkedin/blob/main/log/t_log.png?raw=true')"
   ]
  },
  {
   "cell_type": "markdown",
   "id": "28d9ebe9",
   "metadata": {},
   "source": [
    "#  [Umer Saeed](https://www.linkedin.com/in/engumersaeed/)\n",
    "Sr. RF Planning & Optimization Engineer<br>\n",
    "BSc Telecommunications Engineering, School of Engineering<br>\n",
    "MS Data Science, School of Business and Economics<br>\n",
    "**University of Management & Technology**<br>\n",
    "**Mobile:**     +923018412180<br>\n",
    "**Email:**  umersaeed81@hotmail.com<br>\n",
    "**Address:** Dream Gardens,Defence Road, Lahore<br>"
   ]
  },
  {
   "cell_type": "markdown",
   "id": "2feede57",
   "metadata": {},
   "source": [
    "# Python Script for Clearing Files in a Specific Directory"
   ]
  },
  {
   "cell_type": "markdown",
   "id": "541e2b52",
   "metadata": {},
   "source": [
    "The code is designed to clear out all the files in the specified directory (working_directory). This could be useful in situations where you want to clean up a directory before performing a new set of operations, or if you need to remove temporary or outdated files."
   ]
  },
  {
   "cell_type": "code",
   "execution_count": null,
   "id": "139f4c4a",
   "metadata": {},
   "outputs": [],
   "source": [
    "# Import Library\n",
    "import os\n",
    "# Set working directory path\n",
    "working_directory = 'D:/Advance_Data_Sets/TXN_DataSets/GSM_CGID_log_Analysis'\n",
    "os.chdir(working_directory)\n",
    "# Python Script for Clearing Files in a Specific path\n",
    "for filename in os.listdir(working_directory):\n",
    "    file_path = os.path.join(working_directory, filename)\n",
    "    if os.path.isfile(file_path):\n",
    "        os.remove(file_path)"
   ]
  },
  {
   "cell_type": "markdown",
   "id": "448de4bd",
   "metadata": {},
   "source": [
    "This Python script that performs the following tasks:\n",
    "1. Imports the os module.\n",
    "2. Sets the working_directory variable to a specific file path.\n",
    "3. Changes the current working directory to the path specified in working_directory.\n",
    "4. Iterates through the files in the working directory.\n",
    "5. For each file, it checks if it's a regular file (not a directory).\n",
    "6. If it's a file, it removes it."
   ]
  },
  {
   "cell_type": "code",
   "execution_count": 3,
   "id": "e3ef38b6",
   "metadata": {},
   "outputs": [
    {
     "data": {
      "text/html": [
       "<img src=\"https://github.com/Umersaeed81/linkedin/blob/main/Python_Script_Collection_for_File_Management/Clearing_Files_Specific_Directory.png?raw=true\"/>"
      ],
      "text/plain": [
       "<IPython.core.display.Image object>"
      ]
     },
     "execution_count": 3,
     "metadata": {},
     "output_type": "execute_result"
    }
   ],
   "source": [
    "Image(url='https://github.com/Umersaeed81/linkedin/blob/main/Python_Script_Collection_for_File_Management/Clearing_Files_Specific_Directory.png?raw=true')"
   ]
  },
  {
   "cell_type": "code",
   "execution_count": 4,
   "id": "78287bdc",
   "metadata": {},
   "outputs": [
    {
     "data": {
      "text/html": [
       "<img src=\"https://github.com/Umersaeed81/linkedin/blob/main/log/sf_log.png?raw=true\"/>"
      ],
      "text/plain": [
       "<IPython.core.display.Image object>"
      ]
     },
     "execution_count": 4,
     "metadata": {},
     "output_type": "execute_result"
    }
   ],
   "source": [
    "Image(url='https://github.com/Umersaeed81/linkedin/blob/main/log/sf_log.png?raw=true')"
   ]
  }
 ],
 "metadata": {
  "kernelspec": {
   "display_name": "Python 3 (ipykernel)",
   "language": "python",
   "name": "python3"
  },
  "language_info": {
   "codemirror_mode": {
    "name": "ipython",
    "version": 3
   },
   "file_extension": ".py",
   "mimetype": "text/x-python",
   "name": "python",
   "nbconvert_exporter": "python",
   "pygments_lexer": "ipython3",
   "version": "3.11.4"
  }
 },
 "nbformat": 4,
 "nbformat_minor": 5
}
