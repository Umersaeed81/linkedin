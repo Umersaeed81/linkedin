{
 "cells": [
  {
   "cell_type": "code",
   "execution_count": 1,
   "id": "94d42638",
   "metadata": {},
   "outputs": [
    {
     "data": {
      "text/html": [
       "<img src=\"https://github.com/Umersaeed81/linkedin/blob/main/log/t_log.png?raw=true\"/>"
      ],
      "text/plain": [
       "<IPython.core.display.Image object>"
      ]
     },
     "execution_count": 1,
     "metadata": {},
     "output_type": "execute_result"
    }
   ],
   "source": [
    "from IPython.display import Image\n",
    "Image(url='https://github.com/Umersaeed81/linkedin/blob/main/log/t_log.png?raw=true')"
   ]
  },
  {
   "cell_type": "markdown",
   "id": "82b1a2c3",
   "metadata": {},
   "source": [
    "#  [Umer Saeed](https://www.linkedin.com/in/engumersaeed/)\n",
    "Sr. RF Planning & Optimization Engineer<br>\n",
    "BSc Telecommunications Engineering, School of Engineering<br>\n",
    "MS Data Science, School of Business and Economics<br>\n",
    "**University of Management & Technology**<br>\n",
    "**Mobile:**     +923018412180<br>\n",
    "**Email:**  umersaeed81@hotmail.com<br>\n",
    "**Address:** Dream Gardens,Defence Road, Lahore<br>"
   ]
  },
  {
   "cell_type": "markdown",
   "id": "3a352e75",
   "metadata": {},
   "source": [
    "# Python Script for Deleting Excel Files in a Specific Directory"
   ]
  },
  {
   "cell_type": "markdown",
   "id": "b99ba0ff",
   "metadata": {},
   "source": [
    "This code is designed to perform a targeted cleanup by removing all Excel files from the specified directory. It could be useful when you need to clear out Excel files that are no longer needed or as a preparatory step for a new set of operations."
   ]
  },
  {
   "cell_type": "code",
   "execution_count": null,
   "id": "bf576ede",
   "metadata": {},
   "outputs": [],
   "source": [
    "import os\n",
    "working_directory = 'D:/Advance_Data_Sets/TXN_DataSets/GSM_CGID_log_Analysis'\n",
    "os.chdir(working_directory)\n",
    "for filename in os.listdir(working_directory):\n",
    "    if filename.endswith('.xlsx'):\n",
    "        os.unlink(os.path.join(working_directory, filename))"
   ]
  },
  {
   "cell_type": "markdown",
   "id": "64818760",
   "metadata": {},
   "source": [
    "This Python script that performs the following taks:\n",
    "1. It imports the os module for interacting with the operating system.\n",
    "2. The working_directory variable is set to a designated file path.\n",
    "3. The current working directory is switched to the path specified in working_directory.\n",
    "4. The script iterates through the files located in the working directory.\n",
    "5. For each file, it verifies if it is a regular file (and not a directory).\n",
    "6. If the item is indeed a file, it is subsequently removed from the directory."
   ]
  },
  {
   "cell_type": "code",
   "execution_count": 2,
   "id": "a8d2197b",
   "metadata": {},
   "outputs": [
    {
     "data": {
      "text/html": [
       "<img src=\"https://github.com/Umersaeed81/linkedin/blob/main/Python_Script_Collection_for_File_Management/01_Python_Script_for_Deleting_Excel_Files_in_a_Specific_Directory.png?raw=true\"/>"
      ],
      "text/plain": [
       "<IPython.core.display.Image object>"
      ]
     },
     "execution_count": 2,
     "metadata": {},
     "output_type": "execute_result"
    }
   ],
   "source": [
    "Image(url='https://github.com/Umersaeed81/linkedin/blob/main/Python_Script_Collection_for_File_Management/01_Python_Script_for_Deleting_Excel_Files_in_a_Specific_Directory.png?raw=true')"
   ]
  },
  {
   "cell_type": "code",
   "execution_count": 3,
   "id": "17b60a15",
   "metadata": {
    "scrolled": true
   },
   "outputs": [
    {
     "data": {
      "text/html": [
       "<img src=\"https://github.com/Umersaeed81/linkedin/blob/main/log/sf_log.png?raw=true\"/>"
      ],
      "text/plain": [
       "<IPython.core.display.Image object>"
      ]
     },
     "execution_count": 3,
     "metadata": {},
     "output_type": "execute_result"
    }
   ],
   "source": [
    "Image(url='https://github.com/Umersaeed81/linkedin/blob/main/log/sf_log.png?raw=true')"
   ]
  }
 ],
 "metadata": {
  "kernelspec": {
   "display_name": "Python 3 (ipykernel)",
   "language": "python",
   "name": "python3"
  },
  "language_info": {
   "codemirror_mode": {
    "name": "ipython",
    "version": 3
   },
   "file_extension": ".py",
   "mimetype": "text/x-python",
   "name": "python",
   "nbconvert_exporter": "python",
   "pygments_lexer": "ipython3",
   "version": "3.11.4"
  }
 },
 "nbformat": 4,
 "nbformat_minor": 5
}
