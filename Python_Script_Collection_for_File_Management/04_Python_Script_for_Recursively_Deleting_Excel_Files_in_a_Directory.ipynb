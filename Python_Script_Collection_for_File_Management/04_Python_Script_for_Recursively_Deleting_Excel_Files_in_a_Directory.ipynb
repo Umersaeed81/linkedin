{
 "cells": [
  {
   "cell_type": "code",
   "execution_count": 1,
   "id": "794be60a",
   "metadata": {},
   "outputs": [
    {
     "data": {
      "text/html": [
       "<img src=\"https://github.com/Umersaeed81/linkedin/blob/main/log/t_log.png?raw=true\"/>"
      ],
      "text/plain": [
       "<IPython.core.display.Image object>"
      ]
     },
     "execution_count": 1,
     "metadata": {},
     "output_type": "execute_result"
    }
   ],
   "source": [
    "from IPython.display import Image\n",
    "Image(url='https://github.com/Umersaeed81/linkedin/blob/main/log/t_log.png?raw=true')"
   ]
  },
  {
   "cell_type": "markdown",
   "id": "cd025217",
   "metadata": {},
   "source": [
    "#  [Umer Saeed](https://www.linkedin.com/in/engumersaeed/)\n",
    "Sr. RF Planning & Optimization Engineer<br>\n",
    "BSc Telecommunications Engineering, School of Engineering<br>\n",
    "MS Data Science, School of Business and Economics<br>\n",
    "**University of Management & Technology**<br>\n",
    "**Mobile:**     +923018412180<br>\n",
    "**Email:**  umersaeed81@hotmail.com<br>\n",
    "**Address:** Dream Gardens,Defence Road, Lahore<br>"
   ]
  },
  {
   "cell_type": "markdown",
   "id": "a81daa9b",
   "metadata": {},
   "source": [
    "# Python Script for Recursively Deleting Excel Files in a Directory"
   ]
  },
  {
   "cell_type": "markdown",
   "id": "d185e0d9",
   "metadata": {},
   "source": [
    "The objective of this Python code is to recursively traverse through a specified directory and delete all files with the .xlsx extension. "
   ]
  },
  {
   "cell_type": "code",
   "execution_count": 2,
   "id": "dded44bc",
   "metadata": {},
   "outputs": [],
   "source": [
    "# import library\n",
    "import os\n",
    "# set path\n",
    "working_directory = 'D:/Advance_Data_Sets/TXN_DataSets/GSM_CGID_log_Analysis'\n",
    "# delete excel fild from folder and sub folders\n",
    "for root, dirs, files in os.walk(working_directory):\n",
    "    for filename in files:\n",
    "        if filename.endswith('.xlsx'):\n",
    "            os.unlink(os.path.join(root, filename))"
   ]
  },
  {
   "cell_type": "markdown",
   "id": "e4b376b5",
   "metadata": {},
   "source": [
    "The objective of this code achieves this by performing the following steps:\n",
    "- Imports the os module, enabling interaction with the operating system.\n",
    "- Sets the working_directory variable to a specific file path.\n",
    "- Utilizes a recursive loop (using os.walk) to navigate through all subdirectories and files within working_directory.\n",
    "- For each file encountered, checks if its filename ends with .xlsx, identifying it as an Excel file.\n",
    "- If an Excel file is found, it is deleted from its respective location."
   ]
  },
  {
   "cell_type": "code",
   "execution_count": 3,
   "id": "c79eeb96",
   "metadata": {},
   "outputs": [
    {
     "data": {
      "text/html": [
       "<img src=\"https://github.com/Umersaeed81/linkedin/blob/main/Python_Script_Collection_for_File_Management/04_Python_Script_for_Recursively_Deleting_Excel_Files_in_a_Directory.png?raw=true\"/>"
      ],
      "text/plain": [
       "<IPython.core.display.Image object>"
      ]
     },
     "execution_count": 3,
     "metadata": {},
     "output_type": "execute_result"
    }
   ],
   "source": [
    "Image(url='https://github.com/Umersaeed81/linkedin/blob/main/Python_Script_Collection_for_File_Management/04_Python_Script_for_Recursively_Deleting_Excel_Files_in_a_Directory.png?raw=true')"
   ]
  },
  {
   "cell_type": "code",
   "execution_count": 4,
   "id": "6f6d1335",
   "metadata": {},
   "outputs": [
    {
     "data": {
      "text/html": [
       "<img src=\"https://github.com/Umersaeed81/linkedin/blob/main/log/sf_log.png?raw=true\"/>"
      ],
      "text/plain": [
       "<IPython.core.display.Image object>"
      ]
     },
     "execution_count": 4,
     "metadata": {},
     "output_type": "execute_result"
    }
   ],
   "source": [
    "Image(url='https://github.com/Umersaeed81/linkedin/blob/main/log/sf_log.png?raw=true')"
   ]
  }
 ],
 "metadata": {
  "kernelspec": {
   "display_name": "Python 3 (ipykernel)",
   "language": "python",
   "name": "python3"
  },
  "language_info": {
   "codemirror_mode": {
    "name": "ipython",
    "version": 3
   },
   "file_extension": ".py",
   "mimetype": "text/x-python",
   "name": "python",
   "nbconvert_exporter": "python",
   "pygments_lexer": "ipython3",
   "version": "3.11.4"
  }
 },
 "nbformat": 4,
 "nbformat_minor": 5
}
