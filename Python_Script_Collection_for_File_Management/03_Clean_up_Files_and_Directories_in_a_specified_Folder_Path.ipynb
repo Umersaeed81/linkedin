{
 "cells": [
  {
   "cell_type": "code",
   "execution_count": 1,
   "id": "7d32ddb4",
   "metadata": {
    "scrolled": true
   },
   "outputs": [
    {
     "data": {
      "text/html": [
       "<img src=\"https://github.com/Umersaeed81/linkedin/blob/main/log/t_log.png?raw=true\"/>"
      ],
      "text/plain": [
       "<IPython.core.display.Image object>"
      ]
     },
     "execution_count": 1,
     "metadata": {},
     "output_type": "execute_result"
    }
   ],
   "source": [
    "from IPython.display import Image\n",
    "Image(url='https://github.com/Umersaeed81/linkedin/blob/main/log/t_log.png?raw=true')"
   ]
  },
  {
   "cell_type": "markdown",
   "id": "e6f49036",
   "metadata": {},
   "source": [
    "#  [Umer Saeed](https://www.linkedin.com/in/engumersaeed/)\n",
    "Sr. RF Planning & Optimization Engineer<br>\n",
    "BSc Telecommunications Engineering, School of Engineering<br>\n",
    "MS Data Science, School of Business and Economics<br>\n",
    "**University of Management & Technology**<br>\n",
    "**Mobile:**     +923018412180<br>\n",
    "**Email:**  umersaeed81@hotmail.com<br>\n",
    "**Address:** Dream Gardens,Defence Road, Lahore<br>"
   ]
  },
  {
   "cell_type": "markdown",
   "id": "ed150bb3",
   "metadata": {},
   "source": [
    "# Clean up Files and Directories in a specified Folder Path"
   ]
  },
  {
   "cell_type": "markdown",
   "id": "aed0bfdc",
   "metadata": {},
   "source": [
    "The purpose of this code is to;\n",
    "- **Clear Files and Directories:** It aims to remove all files and directories within a specified folder path.\n",
    "- **Prevent Errors:** It checks if the folder path exists before attempting any operations to prevent potential errors.\n",
    "- **Recursive Removal:** If a directory is found, it removes it along with all its contents recursively.\n",
    "- **Clean-Up for Analysis:** This code might be used as a preparatory step before conducting analysis on a dataset, ensuring a clean slate for new data."
   ]
  },
  {
   "cell_type": "code",
   "execution_count": null,
   "id": "1607e6e4",
   "metadata": {},
   "outputs": [],
   "source": [
    "import os\n",
    "import shutil\n",
    "\n",
    "folder_path = \"D:/Advance_Data_Sets/TXN_DataSets/GSM_CGID_log_Analysis\"\n",
    "\n",
    "# Ensure the folder path exists before proceeding\n",
    "if os.path.exists(folder_path):\n",
    "    # Iterate over the contents of the folder\n",
    "    for item in os.listdir(folder_path):\n",
    "        item_path = os.path.join(folder_path, item)\n",
    "        \n",
    "        # If it's a file, remove it\n",
    "        if os.path.isfile(item_path):\n",
    "            os.remove(item_path)\n",
    "            \n",
    "        # If it's a directory, remove it and its contents recursively\n",
    "        elif os.path.isdir(item_path):\n",
    "            shutil.rmtree(item_path)\n",
    "else:\n",
    "    print(f\"The folder path '{folder_path}' does not exist.\")"
   ]
  },
  {
   "cell_type": "code",
   "execution_count": 2,
   "id": "20d15f7a",
   "metadata": {},
   "outputs": [
    {
     "data": {
      "text/html": [
       "<img src=\"https://github.com/Umersaeed81/linkedin/blob/main/Python_Script_Collection_for_File_Management/03_Clean_up_Files_and_Directories_in_a_specified_Folder_Path.png?raw=true\"/>"
      ],
      "text/plain": [
       "<IPython.core.display.Image object>"
      ]
     },
     "execution_count": 2,
     "metadata": {},
     "output_type": "execute_result"
    }
   ],
   "source": [
    "Image(url='https://github.com/Umersaeed81/linkedin/blob/main/Python_Script_Collection_for_File_Management/03_Clean_up_Files_and_Directories_in_a_specified_Folder_Path.png?raw=true')"
   ]
  },
  {
   "cell_type": "code",
   "execution_count": 3,
   "id": "4a0f226a",
   "metadata": {},
   "outputs": [
    {
     "data": {
      "text/html": [
       "<img src=\"https://github.com/Umersaeed81/linkedin/blob/main/log/sf_log.png?raw=true\"/>"
      ],
      "text/plain": [
       "<IPython.core.display.Image object>"
      ]
     },
     "execution_count": 3,
     "metadata": {},
     "output_type": "execute_result"
    }
   ],
   "source": [
    "Image(url='https://github.com/Umersaeed81/linkedin/blob/main/log/sf_log.png?raw=true')"
   ]
  },
  {
   "cell_type": "code",
   "execution_count": null,
   "id": "ebc80ec0",
   "metadata": {},
   "outputs": [],
   "source": []
  }
 ],
 "metadata": {
  "kernelspec": {
   "display_name": "Python 3 (ipykernel)",
   "language": "python",
   "name": "python3"
  },
  "language_info": {
   "codemirror_mode": {
    "name": "ipython",
    "version": 3
   },
   "file_extension": ".py",
   "mimetype": "text/x-python",
   "name": "python",
   "nbconvert_exporter": "python",
   "pygments_lexer": "ipython3",
   "version": "3.11.4"
  }
 },
 "nbformat": 4,
 "nbformat_minor": 5
}
